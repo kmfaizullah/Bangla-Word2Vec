{
 "cells": [
  {
   "cell_type": "code",
   "execution_count": 1,
   "metadata": {},
   "outputs": [],
   "source": [
    "import gzip\n",
    "import gensim \n",
    "import logging\n",
    "import pickle\n",
    "import os\n",
    "import json\n",
    "import pandas as pd\n",
    "from gensim.models import KeyedVectors\n",
    "from gensim.models import Word2Vec\n",
    "from Preprocess import Process"
   ]
  },
  {
   "cell_type": "markdown",
   "metadata": {},
   "source": [
    "# Training Model"
   ]
  },
  {
   "cell_type": "code",
   "execution_count": 2,
   "metadata": {},
   "outputs": [],
   "source": [
    "directory= \"./data/BengaliWikipediaArticles/\"\n",
    "process=Process(directory)\n",
    "li=process.TextProcess()"
   ]
  },
  {
   "cell_type": "code",
   "execution_count": 4,
   "metadata": {},
   "outputs": [],
   "source": [
    "model = gensim.models.Word2Vec (li,sg=0,size=300, window=10, min_count=2, workers=2)\n",
    "model.train(li,total_examples=len(li),epochs=2)\n",
    "model.save('w2v_new_data_mymodel_100')"
   ]
  },
  {
   "cell_type": "code",
   "execution_count": 8,
   "metadata": {},
   "outputs": [],
   "source": [
    "word2index = {token: token_index for token_index, token in enumerate(model.wv.index2word)}\n",
    "index2word = {token_index: token for token_index, token in enumerate(model.wv.index2word)}"
   ]
  },
  {
   "cell_type": "markdown",
   "metadata": {},
   "source": [
    "# Pretrained Model Loading Script"
   ]
  },
  {
   "cell_type": "code",
   "execution_count": 10,
   "metadata": {},
   "outputs": [
    {
     "name": "stdout",
     "output_type": "stream",
     "text": [
      "vector shape: (407455, 300), vocabulary size: 407455\n"
     ]
    }
   ],
   "source": [
    "model= KeyedVectors.load(\"w2v_new_data_mymodel_100\",mmap='r')\n",
    "vector= model.wv.vectors\n",
    "vocab=model.wv.vocab\n",
    "print(\"vector shape: {}, vocabulary size: {}\".format(vector.shape, len(vocab)))\n",
    "word2index = {token: token_index for token_index, token in enumerate(model.wv.index2word)}\n",
    "index2word = {token_index: token for token_index, token in enumerate(model.wv.index2word)}"
   ]
  },
  {
   "cell_type": "code",
   "execution_count": 11,
   "metadata": {},
   "outputs": [
    {
     "data": {
      "text/plain": [
       "[('ভাষাটি', 0.7159242033958435),\n",
       " ('ভাষাও', 0.6666750311851501),\n",
       " ('উপভাষা', 0.6340552568435669),\n",
       " ('ভাষার', 0.6332064270973206),\n",
       " ('মাতভাষা', 0.6297314167022705)]"
      ]
     },
     "execution_count": 11,
     "metadata": {},
     "output_type": "execute_result"
    }
   ],
   "source": [
    "w1=\"ভাষা\"\n",
    "model.wv.most_similar(positive=w1, topn=5)"
   ]
  }
 ],
 "metadata": {
  "kernelspec": {
   "display_name": "Python 3",
   "language": "python",
   "name": "python3"
  },
  "language_info": {
   "codemirror_mode": {
    "name": "ipython",
    "version": 3
   },
   "file_extension": ".py",
   "mimetype": "text/x-python",
   "name": "python",
   "nbconvert_exporter": "python",
   "pygments_lexer": "ipython3",
   "version": "3.6.7"
  }
 },
 "nbformat": 4,
 "nbformat_minor": 2
}
